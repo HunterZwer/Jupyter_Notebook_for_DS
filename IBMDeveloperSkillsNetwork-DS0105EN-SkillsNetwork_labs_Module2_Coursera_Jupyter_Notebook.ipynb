{
  "metadata": {
    "kernelspec": {
      "name": "python",
      "display_name": "Pyolite",
      "language": "python"
    },
    "language_info": {
      "codemirror_mode": {
        "name": "python",
        "version": 3
      },
      "file_extension": ".py",
      "mimetype": "text/x-python",
      "name": "python",
      "nbconvert_exporter": "python",
      "pygments_lexer": "ipython3",
      "version": "3.8"
    }
  },
  "nbformat_minor": 4,
  "nbformat": 4,
  "cells": [
    {
      "cell_type": "markdown",
      "source": "<center>\n    <img src=\"https://cf-courses-data.s3.us.cloud-object-storage.appdomain.cloud/IBMDeveloperSkillsNetwork-DS0105EN-SkillsNetwork/labs/Module2/images/SN_web_lightmode.png\" width=\"300\" alt=\"cognitiveclass.ai logo\"  />\n</center>\n",
      "metadata": {}
    },
    {
      "cell_type": "markdown",
      "source": "<h1>My Jupyter Notebook on Skills Network <h1/>",
      "metadata": {}
    },
    {
      "cell_type": "markdown",
      "source": "<b>Khamdullo Nasimov <b/>",
      "metadata": {}
    },
    {
      "cell_type": "markdown",
      "source": "<i>I am interested in data science because this is a profession of the future. Data science requires not only technical skills but communicative and creative.<i/>",
      "metadata": {}
    },
    {
      "cell_type": "markdown",
      "source": "<h3>My code is bellow simple counting numbers from zero to ten<h3/>",
      "metadata": {}
    },
    {
      "cell_type": "code",
      "source": "z = 0\nwhile z!=10:\n    z+=1\n    print(z)",
      "metadata": {
        "trusted": true
      },
      "execution_count": 4,
      "outputs": [
        {
          "name": "stdout",
          "text": "1\n2\n3\n4\n5\n6\n7\n8\n9\n10\n",
          "output_type": "stream"
        }
      ]
    },
    {
      "cell_type": "markdown",
      "source": "<p>Numbered list example:</p>\n<ol>\n<li>Example 1</li>\n<li>Example 2</li>\n<li>Example 3</li>\n</ol>\n<hr/>\n<p>Bulleted list example:</p>\n<ul>\n<li>Example 1</li>\n<li>Example 2</li>\n<li>Example 3</li>\n</ul>\n<hr/>\n<p>Horizontal rule between:</p>\n\n",
      "metadata": {}
    },
    {
      "cell_type": "code",
      "source": "",
      "metadata": {},
      "execution_count": null,
      "outputs": []
    }
  ]
}